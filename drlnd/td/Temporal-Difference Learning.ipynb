{
 "cells": [
  {
   "cell_type": "markdown",
   "metadata": {},
   "source": [
    "# Temporal-Difference Learning"
   ]
  },
  {
   "cell_type": "markdown",
   "metadata": {},
   "source": [
    "*Temporal-difference* (TD) learning is a combination of Monte Carlo ideas and dynamic programming (DP) ideas.\n",
    "\n",
    "  * Like Monte Carlo methods, TD methods can learn directly from raw experience without a model of environment's dynamics.\n",
    "  * Like DP, TD methods update estimates based in part on other learned estimates, without waiting for a final outcome (they bootstrap)."
   ]
  },
  {
   "cell_type": "markdown",
   "metadata": {},
   "source": [
    "## TD Prediction\n",
    "\n",
    "### *Constant-$\\alpha$ MC*\n",
    "\n",
    "\\begin{align*}\n",
    "V(S_t) \\gets V(S_t) + \\alpha[G_t - V(S_t)]\n",
    "\\end{align*}\n",
    "\n",
    "MC methods must wait until the end of the episode to determine the increment to $V(S_t)$ (only then is $G_t$ is known).\n",
    "\n",
    "### The simplest TD method\n",
    "\n",
    "\\begin{align*}\n",
    "V(S_t)      &\\gets V(S_t) + \\alpha[R_{t+1} + \\gamma V(S_{t+1}) - V(S_t)] \\\\\n",
    "Q(S_t, A_t) &\\gets Q(S_t, A_t) + \\alpha [R_{T+1} + \\gamma Q(S_{t+1}, A_{t+1}) - Q(S_t, A_t)]\n",
    "\\end{align*}\n",
    "\n",
    "TD methods need to wait only until the next time step.\n",
    "\n",
    "### TD error\n",
    "\n",
    "\\begin{align*}\n",
    "\\delta_t \\doteq R_{t+1} + \\gamma V(S_{t+1}) - V(S_t)\n",
    "\\end{align*}"
   ]
  },
  {
   "cell_type": "code",
   "execution_count": 4,
   "metadata": {},
   "outputs": [],
   "source": [
    "from collections import defaultdict\n",
    "import numpy as np\n",
    "import gym\n",
    "\n",
    "def td_0_prediction(policy, env, num_episodes, alpha=0.05, gamma=0.99):\n",
    "    # a dict of (state -> value)\n",
    "    v = defaultdict(float)\n",
    "    \n",
    "    for _ in range(num_episodes):\n",
    "\n",
    "        state = env.reset()\n",
    "        done = False\n",
    "        \n",
    "        while not done:\n",
    "            action = policy(state)\n",
    "            next_state, reward, done, _ = env.step(action)\n",
    "            v[state] += alpha*(reward + gamma*v[next_state] - v[state])\n",
    "            state = next_state\n",
    "            \n",
    "    return v"
   ]
  },
  {
   "cell_type": "code",
   "execution_count": null,
   "metadata": {},
   "outputs": [],
   "source": [
    "from mpl_toolkits.mplot3d import Axes3D\n",
    "\n",
    "import matplotlib.pyplot as plt\n",
    "\n"
   ]
  },
  {
   "cell_type": "code",
   "execution_count": 5,
   "metadata": {},
   "outputs": [],
   "source": [
    "env = gym.make('Blackjack-v0')\n",
    "policy = lambda _state: env.action_space.sample()\n",
    "v = td_0_prediction(policy, env, 1000)\n",
    "\n",
    "fig = plt.figure()\n",
    "ax = fig.add_subplot(111, projection='3d')\n",
    "\n",
    "x1 = []"
   ]
  },
  {
   "cell_type": "markdown",
   "metadata": {},
   "source": [
    "### $n$-step TD for estimating $V \\approx v_\\pi$"
   ]
  },
  {
   "cell_type": "code",
   "execution_count": 8,
   "metadata": {},
   "outputs": [],
   "source": [
    "def n_step_td_prediction(\n",
    "        policy, env, num_episodes, n_steps=1, alpha=0.05, gamma=0.99):\n",
    "    # state value: a dict (state -> value)\n",
    "    v = defaultdict(float)\n",
    "    \n",
    "    for _ in range(num_episodes):\n",
    "        \n",
    "        state = env.reset()\n",
    "        done = False\n",
    "        \n",
    "        last_steps = []\n",
    "        \n",
    "        while not done:\n",
    "            action = policy(state)\n",
    "            next_state, reward, done, _ = env.step(action)\n",
    "            last_steps.append((state, action, reward))\n",
    "            if done:\n",
    "                v[next_state] = 0\n",
    "            if len(last_steps) == n_steps or done:\n",
    "                v[last_steps[0][0]] = v[last_steps[0][0]] + alpha * (\n",
    "                    np.sum([gamma**i * r for i, (_, _, r) in enumerate(last_steps)])\n",
    "                    + v[next_state] - v[last_steps[0][0]])\n",
    "                last_steps = last_steps[1:]\n",
    "            state = next_state\n",
    "            \n",
    "    return v"
   ]
  },
  {
   "cell_type": "code",
   "execution_count": 9,
   "metadata": {},
   "outputs": [],
   "source": [
    "env = gym.make('Blackjack-v0')\n",
    "policy = lambda _state: env.action_space.sample()\n",
    "v = n_step_td_prediction(policy, env, 10, 2)"
   ]
  },
  {
   "cell_type": "code",
   "execution_count": null,
   "metadata": {},
   "outputs": [],
   "source": []
  }
 ],
 "metadata": {
  "kernelspec": {
   "display_name": "Python 3",
   "language": "python",
   "name": "python3"
  },
  "language_info": {
   "codemirror_mode": {
    "name": "ipython",
    "version": 3
   },
   "file_extension": ".py",
   "mimetype": "text/x-python",
   "name": "python",
   "nbconvert_exporter": "python",
   "pygments_lexer": "ipython3",
   "version": "3.6.6"
  }
 },
 "nbformat": 4,
 "nbformat_minor": 2
}
